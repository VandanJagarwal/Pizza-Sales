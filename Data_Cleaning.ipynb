{
 "cells": [
  {
   "cell_type": "code",
   "execution_count": 4,
   "id": "7ed3ab45",
   "metadata": {},
   "outputs": [],
   "source": [
    "# importing libraries and reading dataset\n",
    "import numpy as np\n",
    "import pandas as pd\n",
    "df = pd.read_csv('Part1.csv')\n"
   ]
  },
  {
   "cell_type": "code",
   "execution_count": 5,
   "id": "169cf6cb",
   "metadata": {},
   "outputs": [],
   "source": [
    "# removed Unwanted Columns\n",
    "df.drop(columns=['Developer Id','Developer Website','Developer Email',\n",
    "                 'Privacy Policy','Minimum Installs','Installs'], inplace=True)"
   ]
  },
  {
   "cell_type": "code",
   "execution_count": 6,
   "id": "c9a2239f",
   "metadata": {},
   "outputs": [],
   "source": [
    "# Renamed Columns\n",
    "df.rename(columns={\n",
    "    'App Name': 'app_name',\n",
    "    'App Id': 'app_id',\n",
    "    'Category': 'category',\n",
    "    'Rating': 'rating',\n",
    "    'Rating Count': 'rating_count',\n",
    "    'Maximum Installs': 'maximum_installs',\n",
    "    'Free': 'is_free',\n",
    "    'Price': 'price',\n",
    "    'Currency': 'currency',\n",
    "    'Size': 'app_size',\n",
    "    'Minimum Android': 'min_android_version',\n",
    "    'Released': 'release_date',\n",
    "    'Last Updated': 'last_updated_date',\n",
    "    'Content Rating': 'content_rating',\n",
    "    'Ad Supported': 'ad_supported',\n",
    "    'In App Purchases': 'in_app_purchases',\n",
    "    'Editors Choice': 'editors_choice',\n",
    "    'Scraped Time': 'scraped_time'\n",
    "}, inplace=True)\n"
   ]
  },
  {
   "cell_type": "code",
   "execution_count": 7,
   "id": "99f0c464",
   "metadata": {},
   "outputs": [
    {
     "data": {
      "text/plain": [
       "0"
      ]
     },
     "execution_count": 7,
     "metadata": {},
     "output_type": "execute_result"
    }
   ],
   "source": [
    "# Counting duplicates\n",
    "df.duplicated().sum()"
   ]
  },
  {
   "cell_type": "code",
   "execution_count": 8,
   "id": "ca442cb7",
   "metadata": {},
   "outputs": [
    {
     "data": {
      "application/vnd.microsoft.datawrangler.viewer.v0+json": {
       "columns": [
        {
         "name": "index",
         "rawType": "object",
         "type": "string"
        },
        {
         "name": "0",
         "rawType": "int64",
         "type": "integer"
        }
       ],
       "ref": "e4bef013-0ac6-4c6c-9cbe-242a00acbd3c",
       "rows": [
        [
         "app_name",
         "1"
        ],
        [
         "app_id",
         "0"
        ],
        [
         "category",
         "0"
        ],
        [
         "rating",
         "7913"
        ],
        [
         "rating_count",
         "7913"
        ],
        [
         "maximum_installs",
         "0"
        ],
        [
         "is_free",
         "0"
        ],
        [
         "price",
         "0"
        ],
        [
         "currency",
         "52"
        ],
        [
         "app_size",
         "67"
        ],
        [
         "min_android_version",
         "2216"
        ],
        [
         "release_date",
         "24440"
        ],
        [
         "last_updated_date",
         "0"
        ],
        [
         "content_rating",
         "0"
        ],
        [
         "ad_supported",
         "0"
        ],
        [
         "in_app_purchases",
         "0"
        ],
        [
         "editors_choice",
         "0"
        ],
        [
         "scraped_time",
         "0"
        ]
       ],
       "shape": {
        "columns": 1,
        "rows": 18
       }
      },
      "text/plain": [
       "app_name                   1\n",
       "app_id                     0\n",
       "category                   0\n",
       "rating                  7913\n",
       "rating_count            7913\n",
       "maximum_installs           0\n",
       "is_free                    0\n",
       "price                      0\n",
       "currency                  52\n",
       "app_size                  67\n",
       "min_android_version     2216\n",
       "release_date           24440\n",
       "last_updated_date          0\n",
       "content_rating             0\n",
       "ad_supported               0\n",
       "in_app_purchases           0\n",
       "editors_choice             0\n",
       "scraped_time               0\n",
       "dtype: int64"
      ]
     },
     "execution_count": 8,
     "metadata": {},
     "output_type": "execute_result"
    }
   ],
   "source": [
    "# Counting Missing Values\n",
    "df.isnull().sum()"
   ]
  },
  {
   "cell_type": "code",
   "execution_count": 9,
   "id": "f577d8f6",
   "metadata": {},
   "outputs": [
    {
     "name": "stderr",
     "output_type": "stream",
     "text": [
      "C:\\Users\\vanda\\AppData\\Local\\Temp\\ipykernel_14728\\270464565.py:8: FutureWarning: A value is trying to be set on a copy of a DataFrame or Series through chained assignment using an inplace method.\n",
      "The behavior will change in pandas 3.0. This inplace method will never work because the intermediate object on which we are setting values always behaves as a copy.\n",
      "\n",
      "For example, when doing 'df[col].method(value, inplace=True)', try using 'df.method({col: value}, inplace=True)' or df[col] = df[col].method(value) instead, to perform the operation inplace on the original object.\n",
      "\n",
      "\n",
      "  df['rating'].fillna(df['rating'].mean(),inplace=True) #filling with mean of the rating\n",
      "C:\\Users\\vanda\\AppData\\Local\\Temp\\ipykernel_14728\\270464565.py:11: FutureWarning: A value is trying to be set on a copy of a DataFrame or Series through chained assignment using an inplace method.\n",
      "The behavior will change in pandas 3.0. This inplace method will never work because the intermediate object on which we are setting values always behaves as a copy.\n",
      "\n",
      "For example, when doing 'df[col].method(value, inplace=True)', try using 'df.method({col: value}, inplace=True)' or df[col] = df[col].method(value) instead, to perform the operation inplace on the original object.\n",
      "\n",
      "\n",
      "  df['rating_count'].fillna(0,inplace=True) #filling with zero\n",
      "C:\\Users\\vanda\\AppData\\Local\\Temp\\ipykernel_14728\\270464565.py:14: FutureWarning: A value is trying to be set on a copy of a DataFrame or Series through chained assignment using an inplace method.\n",
      "The behavior will change in pandas 3.0. This inplace method will never work because the intermediate object on which we are setting values always behaves as a copy.\n",
      "\n",
      "For example, when doing 'df[col].method(value, inplace=True)', try using 'df.method({col: value}, inplace=True)' or df[col] = df[col].method(value) instead, to perform the operation inplace on the original object.\n",
      "\n",
      "\n",
      "  df['currency'].fillna(df['currency'].mode()[0],inplace= True) # filling with most frequent currency type\n"
     ]
    }
   ],
   "source": [
    "# Handling Missing Values accourding to the columns\n",
    "\n",
    "# app_name column\n",
    "df[df['app_name'].isnull()].index # getting index no. = Index([45686], dtype='int64')\n",
    "df.drop(45686,inplace=True) # deleted [45686] indexed row\n",
    "\n",
    "# rating column\n",
    "df['rating'].fillna(df['rating'].mean(),inplace=True) #filling with mean of the rating\n",
    "\n",
    "# rating_count column\n",
    "df['rating_count'].fillna(0,inplace=True) #filling with zero\n",
    "\n",
    "# currency column\n",
    "df['currency'].fillna(df['currency'].mode()[0],inplace= True) # filling with most frequent currency type"
   ]
  },
  {
   "cell_type": "code",
   "execution_count": 10,
   "id": "32696366",
   "metadata": {},
   "outputs": [
    {
     "data": {
      "text/plain": [
       "array(['10M', '2.9M', '3.7M', ..., '344M', '232M', '418M'], dtype=object)"
      ]
     },
     "execution_count": 10,
     "metadata": {},
     "output_type": "execute_result"
    }
   ],
   "source": [
    "# app_size column\n",
    "df['app_size'].unique() # checking unique sizes(MB,GB,Kb)"
   ]
  },
  {
   "cell_type": "code",
   "execution_count": 11,
   "id": "6df6f0df",
   "metadata": {},
   "outputs": [],
   "source": [
    "def convert_size(x):\n",
    "    try:\n",
    "        if 'M' in x :\n",
    "            return float(x.replace('M',''))\n",
    "        elif 'G' in x:\n",
    "            return float(x.replace('G',''))*1024 # GB to MB\n",
    "        else:\n",
    "            return 0\n",
    "    except:\n",
    "        return 0\n",
    "    \n",
    "df['app_size_mb'] = df['app_size'].apply(convert_size)"
   ]
  },
  {
   "cell_type": "code",
   "execution_count": 13,
   "id": "3b2e9937",
   "metadata": {},
   "outputs": [],
   "source": [
    "# release_date column\n",
    "df = df.dropna(subset=['release_date'])"
   ]
  },
  {
   "cell_type": "code",
   "execution_count": 14,
   "id": "6531b713",
   "metadata": {},
   "outputs": [
    {
     "data": {
      "application/vnd.microsoft.datawrangler.viewer.v0+json": {
       "columns": [
        {
         "name": "index",
         "rawType": "object",
         "type": "string"
        },
        {
         "name": "0",
         "rawType": "int64",
         "type": "integer"
        }
       ],
       "ref": "2455635b-a4d3-43c2-b7b3-1210682088a3",
       "rows": [
        [
         "app_name",
         "0"
        ],
        [
         "app_id",
         "0"
        ],
        [
         "category",
         "0"
        ],
        [
         "rating",
         "0"
        ],
        [
         "rating_count",
         "0"
        ],
        [
         "maximum_installs",
         "0"
        ],
        [
         "is_free",
         "0"
        ],
        [
         "price",
         "0"
        ],
        [
         "currency",
         "0"
        ],
        [
         "app_size",
         "0"
        ],
        [
         "min_android_version",
         "2144"
        ],
        [
         "release_date",
         "0"
        ],
        [
         "last_updated_date",
         "0"
        ],
        [
         "content_rating",
         "0"
        ],
        [
         "ad_supported",
         "0"
        ],
        [
         "in_app_purchases",
         "0"
        ],
        [
         "editors_choice",
         "0"
        ],
        [
         "scraped_time",
         "0"
        ],
        [
         "app_size_mb",
         "0"
        ]
       ],
       "shape": {
        "columns": 1,
        "rows": 19
       }
      },
      "text/plain": [
       "app_name                  0\n",
       "app_id                    0\n",
       "category                  0\n",
       "rating                    0\n",
       "rating_count              0\n",
       "maximum_installs          0\n",
       "is_free                   0\n",
       "price                     0\n",
       "currency                  0\n",
       "app_size                  0\n",
       "min_android_version    2144\n",
       "release_date              0\n",
       "last_updated_date         0\n",
       "content_rating            0\n",
       "ad_supported              0\n",
       "in_app_purchases          0\n",
       "editors_choice            0\n",
       "scraped_time              0\n",
       "app_size_mb               0\n",
       "dtype: int64"
      ]
     },
     "execution_count": 14,
     "metadata": {},
     "output_type": "execute_result"
    }
   ],
   "source": [
    "df.isnull().sum()"
   ]
  },
  {
   "cell_type": "code",
   "execution_count": 16,
   "id": "351b1e2c",
   "metadata": {},
   "outputs": [
    {
     "data": {
      "application/vnd.microsoft.datawrangler.viewer.v0+json": {
       "columns": [
        {
         "name": "index",
         "rawType": "object",
         "type": "string"
        },
        {
         "name": "rating",
         "rawType": "float64",
         "type": "float"
        },
        {
         "name": "rating_count",
         "rawType": "float64",
         "type": "float"
        },
        {
         "name": "maximum_installs",
         "rawType": "float64",
         "type": "float"
        },
        {
         "name": "price",
         "rawType": "float64",
         "type": "float"
        },
        {
         "name": "app_size_mb",
         "rawType": "float64",
         "type": "float"
        }
       ],
       "ref": "824624e3-ab04-4418-a746-6c39d9e209b7",
       "rows": [
        [
         "count",
         "775558.0",
         "775558.0",
         "775558.0",
         "775558.0",
         "775558.0"
        ],
        [
         "mean",
         "2.2046869221163115",
         "2877.7040827378482",
         "287370.76325303846",
         "0.10362848162226425",
         "18.719259810355894"
        ],
        [
         "std",
         "2.1085830019551786",
         "260146.59355209337",
         "15124464.796287695",
         "2.609632163979433",
         "23.91758250257499"
        ],
        [
         "min",
         "0.0",
         "0.0",
         "0.0",
         "0.0",
         "0.0"
        ],
        [
         "25%",
         "0.0",
         "0.0",
         "85.0",
         "0.0",
         "4.7"
        ],
        [
         "50%",
         "3.0",
         "6.0",
         "703.0",
         "0.0",
         "9.8"
        ],
        [
         "75%",
         "4.3",
         "42.0",
         "7393.0",
         "0.0",
         "24.0"
        ],
        [
         "max",
         "5.0",
         "138557570.0",
         "6265637751.0",
         "400.0",
         "1536.0"
        ]
       ],
       "shape": {
        "columns": 5,
        "rows": 8
       }
      },
      "text/html": [
       "<div>\n",
       "<style scoped>\n",
       "    .dataframe tbody tr th:only-of-type {\n",
       "        vertical-align: middle;\n",
       "    }\n",
       "\n",
       "    .dataframe tbody tr th {\n",
       "        vertical-align: top;\n",
       "    }\n",
       "\n",
       "    .dataframe thead th {\n",
       "        text-align: right;\n",
       "    }\n",
       "</style>\n",
       "<table border=\"1\" class=\"dataframe\">\n",
       "  <thead>\n",
       "    <tr style=\"text-align: right;\">\n",
       "      <th></th>\n",
       "      <th>rating</th>\n",
       "      <th>rating_count</th>\n",
       "      <th>maximum_installs</th>\n",
       "      <th>price</th>\n",
       "      <th>app_size_mb</th>\n",
       "    </tr>\n",
       "  </thead>\n",
       "  <tbody>\n",
       "    <tr>\n",
       "      <th>count</th>\n",
       "      <td>775558.000000</td>\n",
       "      <td>7.755580e+05</td>\n",
       "      <td>7.755580e+05</td>\n",
       "      <td>775558.000000</td>\n",
       "      <td>775558.000000</td>\n",
       "    </tr>\n",
       "    <tr>\n",
       "      <th>mean</th>\n",
       "      <td>2.204687</td>\n",
       "      <td>2.877704e+03</td>\n",
       "      <td>2.873708e+05</td>\n",
       "      <td>0.103628</td>\n",
       "      <td>18.719260</td>\n",
       "    </tr>\n",
       "    <tr>\n",
       "      <th>std</th>\n",
       "      <td>2.108583</td>\n",
       "      <td>2.601466e+05</td>\n",
       "      <td>1.512446e+07</td>\n",
       "      <td>2.609632</td>\n",
       "      <td>23.917583</td>\n",
       "    </tr>\n",
       "    <tr>\n",
       "      <th>min</th>\n",
       "      <td>0.000000</td>\n",
       "      <td>0.000000e+00</td>\n",
       "      <td>0.000000e+00</td>\n",
       "      <td>0.000000</td>\n",
       "      <td>0.000000</td>\n",
       "    </tr>\n",
       "    <tr>\n",
       "      <th>25%</th>\n",
       "      <td>0.000000</td>\n",
       "      <td>0.000000e+00</td>\n",
       "      <td>8.500000e+01</td>\n",
       "      <td>0.000000</td>\n",
       "      <td>4.700000</td>\n",
       "    </tr>\n",
       "    <tr>\n",
       "      <th>50%</th>\n",
       "      <td>3.000000</td>\n",
       "      <td>6.000000e+00</td>\n",
       "      <td>7.030000e+02</td>\n",
       "      <td>0.000000</td>\n",
       "      <td>9.800000</td>\n",
       "    </tr>\n",
       "    <tr>\n",
       "      <th>75%</th>\n",
       "      <td>4.300000</td>\n",
       "      <td>4.200000e+01</td>\n",
       "      <td>7.393000e+03</td>\n",
       "      <td>0.000000</td>\n",
       "      <td>24.000000</td>\n",
       "    </tr>\n",
       "    <tr>\n",
       "      <th>max</th>\n",
       "      <td>5.000000</td>\n",
       "      <td>1.385576e+08</td>\n",
       "      <td>6.265638e+09</td>\n",
       "      <td>400.000000</td>\n",
       "      <td>1536.000000</td>\n",
       "    </tr>\n",
       "  </tbody>\n",
       "</table>\n",
       "</div>"
      ],
      "text/plain": [
       "              rating  rating_count  maximum_installs          price  \\\n",
       "count  775558.000000  7.755580e+05      7.755580e+05  775558.000000   \n",
       "mean        2.204687  2.877704e+03      2.873708e+05       0.103628   \n",
       "std         2.108583  2.601466e+05      1.512446e+07       2.609632   \n",
       "min         0.000000  0.000000e+00      0.000000e+00       0.000000   \n",
       "25%         0.000000  0.000000e+00      8.500000e+01       0.000000   \n",
       "50%         3.000000  6.000000e+00      7.030000e+02       0.000000   \n",
       "75%         4.300000  4.200000e+01      7.393000e+03       0.000000   \n",
       "max         5.000000  1.385576e+08      6.265638e+09     400.000000   \n",
       "\n",
       "         app_size_mb  \n",
       "count  775558.000000  \n",
       "mean       18.719260  \n",
       "std        23.917583  \n",
       "min         0.000000  \n",
       "25%         4.700000  \n",
       "50%         9.800000  \n",
       "75%        24.000000  \n",
       "max      1536.000000  "
      ]
     },
     "execution_count": 16,
     "metadata": {},
     "output_type": "execute_result"
    }
   ],
   "source": [
    "df.describe()"
   ]
  },
  {
   "cell_type": "code",
   "execution_count": null,
   "id": "9be4bec6",
   "metadata": {},
   "outputs": [],
   "source": [
    "# Converting columns to appropriate data types\n",
    "df['release_date']= pd.to_datetime(df['release_date'])\n",
    "df['scraped_time']= pd.to_datetime(df['scraped_time'])"
   ]
  },
  {
   "cell_type": "code",
   "execution_count": 34,
   "id": "8f13844d",
   "metadata": {},
   "outputs": [],
   "source": [
    "# creating month and year columns\n",
    "df['released_year'] = df['release_date'].dt.year\n",
    "df['released_month'] = df['release_date'].dt.month"
   ]
  },
  {
   "cell_type": "code",
   "execution_count": null,
   "id": "66ee19aa",
   "metadata": {},
   "outputs": [
    {
     "data": {
      "application/vnd.microsoft.datawrangler.viewer.v0+json": {
       "columns": [
        {
         "name": "index",
         "rawType": "int64",
         "type": "integer"
        },
        {
         "name": "released_year",
         "rawType": "int32",
         "type": "integer"
        },
        {
         "name": "app_count",
         "rawType": "int64",
         "type": "integer"
        }
       ],
       "ref": "309e6234-e777-4704-be0d-23a43a270076",
       "rows": [
        [
         "0",
         "2010",
         "1554"
        ],
        [
         "1",
         "2011",
         "4936"
        ],
        [
         "2",
         "2012",
         "8798"
        ],
        [
         "3",
         "2013",
         "14571"
        ],
        [
         "4",
         "2014",
         "24558"
        ],
        [
         "5",
         "2015",
         "39997"
        ],
        [
         "6",
         "2016",
         "58107"
        ],
        [
         "7",
         "2017",
         "90084"
        ],
        [
         "8",
         "2018",
         "115563"
        ],
        [
         "9",
         "2019",
         "166149"
        ],
        [
         "10",
         "2020",
         "189026"
        ],
        [
         "11",
         "2021",
         "62215"
        ]
       ],
       "shape": {
        "columns": 2,
        "rows": 12
       }
      },
      "text/html": [
       "<div>\n",
       "<style scoped>\n",
       "    .dataframe tbody tr th:only-of-type {\n",
       "        vertical-align: middle;\n",
       "    }\n",
       "\n",
       "    .dataframe tbody tr th {\n",
       "        vertical-align: top;\n",
       "    }\n",
       "\n",
       "    .dataframe thead th {\n",
       "        text-align: right;\n",
       "    }\n",
       "</style>\n",
       "<table border=\"1\" class=\"dataframe\">\n",
       "  <thead>\n",
       "    <tr style=\"text-align: right;\">\n",
       "      <th></th>\n",
       "      <th>released_year</th>\n",
       "      <th>app_count</th>\n",
       "    </tr>\n",
       "  </thead>\n",
       "  <tbody>\n",
       "    <tr>\n",
       "      <th>0</th>\n",
       "      <td>2010</td>\n",
       "      <td>1554</td>\n",
       "    </tr>\n",
       "    <tr>\n",
       "      <th>1</th>\n",
       "      <td>2011</td>\n",
       "      <td>4936</td>\n",
       "    </tr>\n",
       "    <tr>\n",
       "      <th>2</th>\n",
       "      <td>2012</td>\n",
       "      <td>8798</td>\n",
       "    </tr>\n",
       "    <tr>\n",
       "      <th>3</th>\n",
       "      <td>2013</td>\n",
       "      <td>14571</td>\n",
       "    </tr>\n",
       "    <tr>\n",
       "      <th>4</th>\n",
       "      <td>2014</td>\n",
       "      <td>24558</td>\n",
       "    </tr>\n",
       "    <tr>\n",
       "      <th>5</th>\n",
       "      <td>2015</td>\n",
       "      <td>39997</td>\n",
       "    </tr>\n",
       "    <tr>\n",
       "      <th>6</th>\n",
       "      <td>2016</td>\n",
       "      <td>58107</td>\n",
       "    </tr>\n",
       "    <tr>\n",
       "      <th>7</th>\n",
       "      <td>2017</td>\n",
       "      <td>90084</td>\n",
       "    </tr>\n",
       "    <tr>\n",
       "      <th>8</th>\n",
       "      <td>2018</td>\n",
       "      <td>115563</td>\n",
       "    </tr>\n",
       "    <tr>\n",
       "      <th>9</th>\n",
       "      <td>2019</td>\n",
       "      <td>166149</td>\n",
       "    </tr>\n",
       "    <tr>\n",
       "      <th>10</th>\n",
       "      <td>2020</td>\n",
       "      <td>189026</td>\n",
       "    </tr>\n",
       "    <tr>\n",
       "      <th>11</th>\n",
       "      <td>2021</td>\n",
       "      <td>62215</td>\n",
       "    </tr>\n",
       "  </tbody>\n",
       "</table>\n",
       "</div>"
      ],
      "text/plain": [
       "    released_year  app_count\n",
       "0            2010       1554\n",
       "1            2011       4936\n",
       "2            2012       8798\n",
       "3            2013      14571\n",
       "4            2014      24558\n",
       "5            2015      39997\n",
       "6            2016      58107\n",
       "7            2017      90084\n",
       "8            2018     115563\n",
       "9            2019     166149\n",
       "10           2020     189026\n",
       "11           2021      62215"
      ]
     },
     "execution_count": 39,
     "metadata": {},
     "output_type": "execute_result"
    }
   ],
   "source": [
    "df.groupby('released_year').size().reset_index(name= 'app_count')"
   ]
  },
  {
   "cell_type": "code",
   "execution_count": null,
   "id": "568f5257",
   "metadata": {},
   "outputs": [],
   "source": []
  }
 ],
 "metadata": {
  "kernelspec": {
   "display_name": "base",
   "language": "python",
   "name": "python3"
  },
  "language_info": {
   "codemirror_mode": {
    "name": "ipython",
    "version": 3
   },
   "file_extension": ".py",
   "mimetype": "text/x-python",
   "name": "python",
   "nbconvert_exporter": "python",
   "pygments_lexer": "ipython3",
   "version": "3.12.7"
  }
 },
 "nbformat": 4,
 "nbformat_minor": 5
}
